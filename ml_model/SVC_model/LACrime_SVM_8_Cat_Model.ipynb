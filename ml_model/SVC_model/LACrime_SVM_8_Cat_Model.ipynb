{
 "cells": [
  {
   "cell_type": "code",
   "execution_count": 1,
   "metadata": {
    "slideshow": {
     "slide_type": "subslide"
    }
   },
   "outputs": [],
   "source": [
    "# Dependencies\n",
    "import numpy as np\n",
    "import pandas as pd"
   ]
  },
  {
   "cell_type": "code",
   "execution_count": 2,
   "metadata": {
    "scrolled": true,
    "slideshow": {
     "slide_type": "fragment"
    }
   },
   "outputs": [
    {
     "data": {
      "text/html": [
       "<div>\n",
       "<style scoped>\n",
       "    .dataframe tbody tr th:only-of-type {\n",
       "        vertical-align: middle;\n",
       "    }\n",
       "\n",
       "    .dataframe tbody tr th {\n",
       "        vertical-align: top;\n",
       "    }\n",
       "\n",
       "    .dataframe thead th {\n",
       "        text-align: right;\n",
       "    }\n",
       "</style>\n",
       "<table border=\"1\" class=\"dataframe\">\n",
       "  <thead>\n",
       "    <tr style=\"text-align: right;\">\n",
       "      <th></th>\n",
       "      <th>dr_no</th>\n",
       "      <th>area_id</th>\n",
       "      <th>date_occ</th>\n",
       "      <th>date_rptd</th>\n",
       "      <th>longitude</th>\n",
       "      <th>latitude</th>\n",
       "      <th>premis_cd</th>\n",
       "      <th>rpt_dist_no</th>\n",
       "      <th>hour_occ</th>\n",
       "      <th>minute_occ</th>\n",
       "      <th>...</th>\n",
       "      <th>2007</th>\n",
       "      <th>2008</th>\n",
       "      <th>2009</th>\n",
       "      <th>2010</th>\n",
       "      <th>2011</th>\n",
       "      <th>2012</th>\n",
       "      <th>2013</th>\n",
       "      <th>2014</th>\n",
       "      <th>2015</th>\n",
       "      <th>9999</th>\n",
       "    </tr>\n",
       "  </thead>\n",
       "  <tbody>\n",
       "    <tr>\n",
       "      <th>0</th>\n",
       "      <td>210</td>\n",
       "      <td>10</td>\n",
       "      <td>20170808</td>\n",
       "      <td>20170808</td>\n",
       "      <td>-118.4800</td>\n",
       "      <td>34.1903</td>\n",
       "      <td>301.0</td>\n",
       "      <td>1039</td>\n",
       "      <td>2</td>\n",
       "      <td>0</td>\n",
       "      <td>...</td>\n",
       "      <td>0</td>\n",
       "      <td>0</td>\n",
       "      <td>0</td>\n",
       "      <td>0</td>\n",
       "      <td>0</td>\n",
       "      <td>0</td>\n",
       "      <td>0</td>\n",
       "      <td>0</td>\n",
       "      <td>0</td>\n",
       "      <td>0</td>\n",
       "    </tr>\n",
       "    <tr>\n",
       "      <th>1</th>\n",
       "      <td>214</td>\n",
       "      <td>14</td>\n",
       "      <td>20170801</td>\n",
       "      <td>20170801</td>\n",
       "      <td>-118.4262</td>\n",
       "      <td>34.0106</td>\n",
       "      <td>104.0</td>\n",
       "      <td>1435</td>\n",
       "      <td>2</td>\n",
       "      <td>0</td>\n",
       "      <td>...</td>\n",
       "      <td>0</td>\n",
       "      <td>0</td>\n",
       "      <td>0</td>\n",
       "      <td>0</td>\n",
       "      <td>0</td>\n",
       "      <td>0</td>\n",
       "      <td>0</td>\n",
       "      <td>0</td>\n",
       "      <td>0</td>\n",
       "      <td>0</td>\n",
       "    </tr>\n",
       "    <tr>\n",
       "      <th>2</th>\n",
       "      <td>405</td>\n",
       "      <td>5</td>\n",
       "      <td>20181031</td>\n",
       "      <td>20181102</td>\n",
       "      <td>-118.2468</td>\n",
       "      <td>33.7926</td>\n",
       "      <td>101.0</td>\n",
       "      <td>519</td>\n",
       "      <td>21</td>\n",
       "      <td>0</td>\n",
       "      <td>...</td>\n",
       "      <td>0</td>\n",
       "      <td>0</td>\n",
       "      <td>0</td>\n",
       "      <td>0</td>\n",
       "      <td>0</td>\n",
       "      <td>0</td>\n",
       "      <td>0</td>\n",
       "      <td>0</td>\n",
       "      <td>0</td>\n",
       "      <td>0</td>\n",
       "    </tr>\n",
       "    <tr>\n",
       "      <th>3</th>\n",
       "      <td>415</td>\n",
       "      <td>15</td>\n",
       "      <td>20170822</td>\n",
       "      <td>20170822</td>\n",
       "      <td>-118.4137</td>\n",
       "      <td>34.1867</td>\n",
       "      <td>108.0</td>\n",
       "      <td>1523</td>\n",
       "      <td>13</td>\n",
       "      <td>45</td>\n",
       "      <td>...</td>\n",
       "      <td>0</td>\n",
       "      <td>0</td>\n",
       "      <td>0</td>\n",
       "      <td>0</td>\n",
       "      <td>0</td>\n",
       "      <td>0</td>\n",
       "      <td>0</td>\n",
       "      <td>0</td>\n",
       "      <td>0</td>\n",
       "      <td>0</td>\n",
       "    </tr>\n",
       "    <tr>\n",
       "      <th>4</th>\n",
       "      <td>418</td>\n",
       "      <td>18</td>\n",
       "      <td>20130318</td>\n",
       "      <td>20130319</td>\n",
       "      <td>-118.2717</td>\n",
       "      <td>33.9420</td>\n",
       "      <td>101.0</td>\n",
       "      <td>1823</td>\n",
       "      <td>20</td>\n",
       "      <td>30</td>\n",
       "      <td>...</td>\n",
       "      <td>0</td>\n",
       "      <td>0</td>\n",
       "      <td>0</td>\n",
       "      <td>0</td>\n",
       "      <td>0</td>\n",
       "      <td>0</td>\n",
       "      <td>0</td>\n",
       "      <td>0</td>\n",
       "      <td>0</td>\n",
       "      <td>0</td>\n",
       "    </tr>\n",
       "  </tbody>\n",
       "</table>\n",
       "<p>5 rows × 581 columns</p>\n",
       "</div>"
      ],
      "text/plain": [
       "   dr_no  area_id  date_occ  date_rptd  longitude  latitude  premis_cd  \\\n",
       "0    210       10  20170808   20170808  -118.4800   34.1903      301.0   \n",
       "1    214       14  20170801   20170801  -118.4262   34.0106      104.0   \n",
       "2    405        5  20181031   20181102  -118.2468   33.7926      101.0   \n",
       "3    415       15  20170822   20170822  -118.4137   34.1867      108.0   \n",
       "4    418       18  20130318   20130319  -118.2717   33.9420      101.0   \n",
       "\n",
       "   rpt_dist_no  hour_occ  minute_occ  ...   2007 2008 2009  2010  2011  2012  \\\n",
       "0         1039         2           0  ...      0    0    0     0     0     0   \n",
       "1         1435         2           0  ...      0    0    0     0     0     0   \n",
       "2          519        21           0  ...      0    0    0     0     0     0   \n",
       "3         1523        13          45  ...      0    0    0     0     0     0   \n",
       "4         1823        20          30  ...      0    0    0     0     0     0   \n",
       "\n",
       "   2013  2014  2015  9999  \n",
       "0     0     0     0     0  \n",
       "1     0     0     0     0  \n",
       "2     0     0     0     0  \n",
       "3     0     0     0     0  \n",
       "4     0     0     0     0  \n",
       "\n",
       "[5 rows x 581 columns]"
      ]
     },
     "execution_count": 2,
     "metadata": {},
     "output_type": "execute_result"
    }
   ],
   "source": [
    "# Import data\n",
    "crime = pd.read_csv('../training_data/train_data_8_fbi_cat.csv')\n",
    "crime.head()"
   ]
  },
  {
   "cell_type": "code",
   "execution_count": 17,
   "metadata": {},
   "outputs": [
    {
     "data": {
      "text/plain": [
       "array(['Motor Vehicle Theft', 'Personal/Other Theft', 'Burglary',\n",
       "       'Aggravated Assault', 'BTFV', 'Robbery', 'Rape (121, 122)',\n",
       "       'Homicide'], dtype=object)"
      ]
     },
     "execution_count": 17,
     "metadata": {},
     "output_type": "execute_result"
    }
   ],
   "source": [
    "# Use first 100000 data\n",
    "data = crime.head(5000)\n",
    "data[\"FBI_Category\"].unique()"
   ]
  },
  {
   "cell_type": "code",
   "execution_count": 18,
   "metadata": {},
   "outputs": [],
   "source": [
    "# Establish column to target (replace data with crime when using all data)\n",
    "target = data[\"FBI_Category\"]\n",
    "target_names = ['Motor Vehicle Theft', 'Personal/Other Theft', 'Burglary',\n",
    "       'Aggravated Assault', 'BTFV', 'Robbery', 'Rape (121, 122)',\n",
    "       'Homicide']"
   ]
  },
  {
   "cell_type": "code",
   "execution_count": 19,
   "metadata": {},
   "outputs": [
    {
     "data": {
      "text/html": [
       "<div>\n",
       "<style scoped>\n",
       "    .dataframe tbody tr th:only-of-type {\n",
       "        vertical-align: middle;\n",
       "    }\n",
       "\n",
       "    .dataframe tbody tr th {\n",
       "        vertical-align: top;\n",
       "    }\n",
       "\n",
       "    .dataframe thead th {\n",
       "        text-align: right;\n",
       "    }\n",
       "</style>\n",
       "<table border=\"1\" class=\"dataframe\">\n",
       "  <thead>\n",
       "    <tr style=\"text-align: right;\">\n",
       "      <th></th>\n",
       "      <th>dr_no</th>\n",
       "      <th>area_id</th>\n",
       "      <th>date_occ</th>\n",
       "      <th>date_rptd</th>\n",
       "      <th>longitude</th>\n",
       "      <th>latitude</th>\n",
       "      <th>premis_cd</th>\n",
       "      <th>rpt_dist_no</th>\n",
       "      <th>hour_occ</th>\n",
       "      <th>minute_occ</th>\n",
       "      <th>...</th>\n",
       "      <th>2007</th>\n",
       "      <th>2008</th>\n",
       "      <th>2009</th>\n",
       "      <th>2010</th>\n",
       "      <th>2011</th>\n",
       "      <th>2012</th>\n",
       "      <th>2013</th>\n",
       "      <th>2014</th>\n",
       "      <th>2015</th>\n",
       "      <th>9999</th>\n",
       "    </tr>\n",
       "  </thead>\n",
       "  <tbody>\n",
       "    <tr>\n",
       "      <th>0</th>\n",
       "      <td>210</td>\n",
       "      <td>10</td>\n",
       "      <td>20170808</td>\n",
       "      <td>20170808</td>\n",
       "      <td>-118.4800</td>\n",
       "      <td>34.1903</td>\n",
       "      <td>301.0</td>\n",
       "      <td>1039</td>\n",
       "      <td>2</td>\n",
       "      <td>0</td>\n",
       "      <td>...</td>\n",
       "      <td>0</td>\n",
       "      <td>0</td>\n",
       "      <td>0</td>\n",
       "      <td>0</td>\n",
       "      <td>0</td>\n",
       "      <td>0</td>\n",
       "      <td>0</td>\n",
       "      <td>0</td>\n",
       "      <td>0</td>\n",
       "      <td>0</td>\n",
       "    </tr>\n",
       "    <tr>\n",
       "      <th>1</th>\n",
       "      <td>214</td>\n",
       "      <td>14</td>\n",
       "      <td>20170801</td>\n",
       "      <td>20170801</td>\n",
       "      <td>-118.4262</td>\n",
       "      <td>34.0106</td>\n",
       "      <td>104.0</td>\n",
       "      <td>1435</td>\n",
       "      <td>2</td>\n",
       "      <td>0</td>\n",
       "      <td>...</td>\n",
       "      <td>0</td>\n",
       "      <td>0</td>\n",
       "      <td>0</td>\n",
       "      <td>0</td>\n",
       "      <td>0</td>\n",
       "      <td>0</td>\n",
       "      <td>0</td>\n",
       "      <td>0</td>\n",
       "      <td>0</td>\n",
       "      <td>0</td>\n",
       "    </tr>\n",
       "    <tr>\n",
       "      <th>2</th>\n",
       "      <td>405</td>\n",
       "      <td>5</td>\n",
       "      <td>20181031</td>\n",
       "      <td>20181102</td>\n",
       "      <td>-118.2468</td>\n",
       "      <td>33.7926</td>\n",
       "      <td>101.0</td>\n",
       "      <td>519</td>\n",
       "      <td>21</td>\n",
       "      <td>0</td>\n",
       "      <td>...</td>\n",
       "      <td>0</td>\n",
       "      <td>0</td>\n",
       "      <td>0</td>\n",
       "      <td>0</td>\n",
       "      <td>0</td>\n",
       "      <td>0</td>\n",
       "      <td>0</td>\n",
       "      <td>0</td>\n",
       "      <td>0</td>\n",
       "      <td>0</td>\n",
       "    </tr>\n",
       "    <tr>\n",
       "      <th>3</th>\n",
       "      <td>415</td>\n",
       "      <td>15</td>\n",
       "      <td>20170822</td>\n",
       "      <td>20170822</td>\n",
       "      <td>-118.4137</td>\n",
       "      <td>34.1867</td>\n",
       "      <td>108.0</td>\n",
       "      <td>1523</td>\n",
       "      <td>13</td>\n",
       "      <td>45</td>\n",
       "      <td>...</td>\n",
       "      <td>0</td>\n",
       "      <td>0</td>\n",
       "      <td>0</td>\n",
       "      <td>0</td>\n",
       "      <td>0</td>\n",
       "      <td>0</td>\n",
       "      <td>0</td>\n",
       "      <td>0</td>\n",
       "      <td>0</td>\n",
       "      <td>0</td>\n",
       "    </tr>\n",
       "    <tr>\n",
       "      <th>4</th>\n",
       "      <td>418</td>\n",
       "      <td>18</td>\n",
       "      <td>20130318</td>\n",
       "      <td>20130319</td>\n",
       "      <td>-118.2717</td>\n",
       "      <td>33.9420</td>\n",
       "      <td>101.0</td>\n",
       "      <td>1823</td>\n",
       "      <td>20</td>\n",
       "      <td>30</td>\n",
       "      <td>...</td>\n",
       "      <td>0</td>\n",
       "      <td>0</td>\n",
       "      <td>0</td>\n",
       "      <td>0</td>\n",
       "      <td>0</td>\n",
       "      <td>0</td>\n",
       "      <td>0</td>\n",
       "      <td>0</td>\n",
       "      <td>0</td>\n",
       "      <td>0</td>\n",
       "    </tr>\n",
       "  </tbody>\n",
       "</table>\n",
       "<p>5 rows × 579 columns</p>\n",
       "</div>"
      ],
      "text/plain": [
       "   dr_no  area_id  date_occ  date_rptd  longitude  latitude  premis_cd  \\\n",
       "0    210       10  20170808   20170808  -118.4800   34.1903      301.0   \n",
       "1    214       14  20170801   20170801  -118.4262   34.0106      104.0   \n",
       "2    405        5  20181031   20181102  -118.2468   33.7926      101.0   \n",
       "3    415       15  20170822   20170822  -118.4137   34.1867      108.0   \n",
       "4    418       18  20130318   20130319  -118.2717   33.9420      101.0   \n",
       "\n",
       "   rpt_dist_no  hour_occ  minute_occ  ...   2007  2008  2009  2010  2011  \\\n",
       "0         1039         2           0  ...      0     0     0     0     0   \n",
       "1         1435         2           0  ...      0     0     0     0     0   \n",
       "2          519        21           0  ...      0     0     0     0     0   \n",
       "3         1523        13          45  ...      0     0     0     0     0   \n",
       "4         1823        20          30  ...      0     0     0     0     0   \n",
       "\n",
       "   2012  2013  2014  2015  9999  \n",
       "0     0     0     0     0     0  \n",
       "1     0     0     0     0     0  \n",
       "2     0     0     0     0     0  \n",
       "3     0     0     0     0     0  \n",
       "4     0     0     0     0     0  \n",
       "\n",
       "[5 rows x 579 columns]"
      ]
     },
     "execution_count": 19,
     "metadata": {},
     "output_type": "execute_result"
    }
   ],
   "source": [
    "# Drop column to target\n",
    "data1 = data.drop([\"FBI_Category\", \"mocodes\"], axis=1)\n",
    "feature_names = data1.columns\n",
    "data1.head()"
   ]
  },
  {
   "cell_type": "code",
   "execution_count": 20,
   "metadata": {},
   "outputs": [
    {
     "data": {
      "text/plain": [
       "SimpleImputer(copy=True, fill_value=None, missing_values=nan, strategy='mean',\n",
       "       verbose=0)"
      ]
     },
     "execution_count": 20,
     "metadata": {},
     "output_type": "execute_result"
    }
   ],
   "source": [
    "# Replace NaN with mean\n",
    "from sklearn.impute import SimpleImputer\n",
    "\n",
    "imp_mean = SimpleImputer(missing_values=np.nan, strategy='mean')\n",
    "imp_mean.fit(data1, target)"
   ]
  },
  {
   "cell_type": "code",
   "execution_count": 21,
   "metadata": {},
   "outputs": [],
   "source": [
    "data1 = imp_mean.transform(data1)"
   ]
  },
  {
   "cell_type": "code",
   "execution_count": 22,
   "metadata": {},
   "outputs": [],
   "source": [
    "# Scale data\n",
    "from sklearn.preprocessing import StandardScaler\n",
    "\n",
    "ss = StandardScaler()\n",
    "ss.fit(data1)\n",
    "data1 = ss.transform(data1)"
   ]
  },
  {
   "cell_type": "code",
   "execution_count": 23,
   "metadata": {},
   "outputs": [],
   "source": [
    "# Separate train and test data\n",
    "\n",
    "from sklearn.model_selection import train_test_split\n",
    "X_train, X_test, y_train, y_test = train_test_split(data1, target, random_state=42)"
   ]
  },
  {
   "cell_type": "code",
   "execution_count": 24,
   "metadata": {},
   "outputs": [
    {
     "name": "stdout",
     "output_type": "stream",
     "text": [
      "[LibSVM]"
     ]
    },
    {
     "data": {
      "text/plain": [
       "SVC(C=1.0, cache_size=200, class_weight=None, coef0=0.0,\n",
       "  decision_function_shape='ovr', degree=3, gamma='auto_deprecated',\n",
       "  kernel='linear', max_iter=-1, probability=False, random_state=None,\n",
       "  shrinking=True, tol=0.001, verbose=True)"
      ]
     },
     "execution_count": 24,
     "metadata": {},
     "output_type": "execute_result"
    }
   ],
   "source": [
    "# Support vector machine linear classifier\n",
    "from sklearn.svm import SVC \n",
    "\n",
    "model = SVC(kernel='linear', verbose=True)\n",
    "model.fit(X_train, y_train)"
   ]
  },
  {
   "cell_type": "code",
   "execution_count": 25,
   "metadata": {},
   "outputs": [
    {
     "name": "stdout",
     "output_type": "stream",
     "text": [
      "Test Acc: 0.861\n"
     ]
    }
   ],
   "source": [
    "# Model Accuracy\n",
    "\n",
    "print('Test Acc: %.3f' % model.score(X_train, y_train))"
   ]
  },
  {
   "cell_type": "code",
   "execution_count": 26,
   "metadata": {},
   "outputs": [
    {
     "name": "stdout",
     "output_type": "stream",
     "text": [
      "                      precision    recall  f1-score   support\n",
      "\n",
      " Motor Vehicle Theft       0.82      0.92      0.87       155\n",
      "Personal/Other Theft       0.88      0.70      0.78       314\n",
      "            Burglary       0.83      0.51      0.63       117\n",
      "  Aggravated Assault       0.00      0.00      0.00         6\n",
      "                BTFV       0.78      0.97      0.87       175\n",
      "             Robbery       0.72      0.90      0.80       284\n",
      "     Rape (121, 122)       0.83      0.83      0.83        12\n",
      "            Homicide       0.91      0.80      0.85       187\n",
      "\n",
      "           micro avg       0.81      0.81      0.81      1250\n",
      "           macro avg       0.72      0.71      0.70      1250\n",
      "        weighted avg       0.82      0.81      0.80      1250\n",
      "\n",
      "accuracy_score: 0.808\n"
     ]
    }
   ],
   "source": [
    "# Calculate classification report\n",
    "\n",
    "from sklearn.metrics import classification_report, accuracy_score\n",
    "predictions = model.predict(X_test)\n",
    "print(classification_report(y_test, predictions,\n",
    "                            target_names=target_names))\n",
    "\n",
    "print('accuracy_score: {}'.format(accuracy_score(y_test, predictions)))"
   ]
  },
  {
   "cell_type": "code",
   "execution_count": 27,
   "metadata": {},
   "outputs": [
    {
     "data": {
      "text/plain": [
       "['svm_class_model_8_cat.pkl']"
      ]
     },
     "execution_count": 27,
     "metadata": {},
     "output_type": "execute_result"
    }
   ],
   "source": [
    "from sklearn.externals import joblib\n",
    "\n",
    "joblib.dump(model, 'svm_class_model_8_cat.pkl')"
   ]
  },
  {
   "cell_type": "code",
   "execution_count": 28,
   "metadata": {},
   "outputs": [],
   "source": [
    "with open('svm_model_8_cat_doc.txt', 'w') as textfile:\n",
    "    textfile.write(classification_report(y_test, predictions,\n",
    "                            target_names=target_names))"
   ]
  },
  {
   "cell_type": "code",
   "execution_count": null,
   "metadata": {},
   "outputs": [],
   "source": []
  }
 ],
 "metadata": {
  "kernelspec": {
   "display_name": "Python 3",
   "language": "python",
   "name": "python3"
  },
  "language_info": {
   "codemirror_mode": {
    "name": "ipython",
    "version": 3
   },
   "file_extension": ".py",
   "mimetype": "text/x-python",
   "name": "python",
   "nbconvert_exporter": "python",
   "pygments_lexer": "ipython3",
   "version": "3.5.6"
  },
  "varInspector": {
   "cols": {
    "lenName": 16,
    "lenType": 16,
    "lenVar": 40
   },
   "kernels_config": {
    "python": {
     "delete_cmd_postfix": "",
     "delete_cmd_prefix": "del ",
     "library": "var_list.py",
     "varRefreshCmd": "print(var_dic_list())"
    },
    "r": {
     "delete_cmd_postfix": ") ",
     "delete_cmd_prefix": "rm(",
     "library": "var_list.r",
     "varRefreshCmd": "cat(var_dic_list()) "
    }
   },
   "types_to_exclude": [
    "module",
    "function",
    "builtin_function_or_method",
    "instance",
    "_Feature"
   ],
   "window_display": false
  }
 },
 "nbformat": 4,
 "nbformat_minor": 2
}
